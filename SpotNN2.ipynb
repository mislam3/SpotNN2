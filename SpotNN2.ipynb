{
  "nbformat": 4,
  "nbformat_minor": 0,
  "metadata": {
    "colab": {
      "name": "spotFinder4.ipynb",
      "provenance": [],
      "collapsed_sections": []
    },
    "kernelspec": {
      "name": "python3",
      "display_name": "Python 3"
    }
  },
  "cells": [
    {
      "cell_type": "code",
      "metadata": {
        "id": "5VorS6iBmM2g",
        "colab_type": "code",
        "outputId": "3a770f99-152d-4d6f-b364-434be3be5ba1",
        "colab": {
          "base_uri": "https://localhost:8080/",
          "height": 1000
        }
      },
      "source": [
        "\"\"\"\n",
        "@author: siamm\n",
        "\"\"\"\n",
        "\n",
        "!pwd\n",
        "import numpy as np\n",
        "import matplotlib.pyplot as plt\n",
        "import os\n",
        "import cv2\n",
        "\n",
        "\n",
        "DATADIR = \"train_data/train\" # set directory\n",
        "CATEGORIES = [\"empty\", \"occupied\"]\n",
        "\n",
        "for category in CATEGORIES:\n",
        "  path  = os.path.join(DATADIR, category) #path to occupied & empty spots ds directory\n",
        "  for img in os.listdir(path):\n",
        "    img_array = cv2.imread(os.path.join(path,img), cv2.IMREAD_GRAYSCALE)\n",
        "\n",
        "    plt.imshow(img_array, cmap=\"gray\")\n",
        "    plt.show()\n",
        "    break\n",
        "  break\n",
        "\n",
        "# print(img_array)\n",
        "print(img_array.shape)\n",
        "# Need to normalize shape as img may be portrait, landscape, etc.\n",
        "\n",
        "IMG_SIZE = 224\n",
        "\n",
        "new_array = cv2.resize(img_array, (IMG_SIZE, IMG_SIZE))\n",
        "plt.imshow(new_array, cmap = 'gray')\n",
        "plt.show()\n",
        "\n",
        "#create training dataset\n",
        "\n",
        "training_data = []\n",
        "\n",
        "def create_training_data():\n",
        "    for category in CATEGORIES:\n",
        "      path  = os.path.join(DATADIR, category) \n",
        "      class_num = CATEGORIES.index(category)\n",
        "      for img in os.listdir(path):\n",
        "        try:  # to handle broken files\n",
        "            img_array = cv2.imread(os.path.join(path,img), cv2.IMREAD_GRAYSCALE)\n",
        "            new_array = cv2.resize(img_array, (IMG_SIZE, IMG_SIZE))\n",
        "            training_data.append([new_array, class_num])\n",
        "        except Exception as e:\n",
        "            pass\n",
        "\n",
        "create_training_data()\n",
        "print(len(training_data))\n",
        "\n",
        "#balance of training data: shuffle data if dataset is not 50:50 - confuses model otherwise\n",
        "\n",
        "      # 0 = empty; 1 = occupied\n",
        "\n",
        "\n",
        "import random\n",
        "\n",
        "random.shuffle(training_data)\n",
        "\n",
        "for sample in training_data[:10]:\n",
        "    print(sample[1])\n",
        "\n",
        "# pack it into variables that are going to be used\n",
        "# X: feature set,  y: labels   train:X test:y?\n",
        "\n",
        "X = []\n",
        "y = []\n",
        "\n",
        "for features, label in training_data:\n",
        "    X.append(features)\n",
        "    y.append(label)\n",
        "\n",
        "X = np.array(X).reshape(-1, IMG_SIZE, IMG_SIZE, 1)  #-1 indicates catch anything or any number and last 1 indicates grayscale\n",
        "\n",
        "\n",
        "import pickle\n",
        "from numpy import array\n",
        "# save data\n",
        "\n",
        "pickle_out = open(\"X.pickle\", \"wb\")\n",
        "pickle.dump(X, pickle_out)\n",
        "pickle_out.close()\n",
        "\n",
        "pickle_out = open(\"y.pickle\", \"wb\")\n",
        "pickle.dump(y, pickle_out)\n",
        "pickle_out.close()\n",
        "\n",
        "\n",
        "\n",
        "pickle_in = open(\"X.pickle\", \"rb\")\n",
        "X = pickle.load(pickle_in)\n",
        "\n",
        "X[1]\n",
        "\n",
        "\n",
        "\n",
        "# CNN conv : involves convolution :useful features? and pooling -over and over again\n",
        "# pixel data -convolutional window -simplifies what it finds into some values; window shifts++' detailed:padding, etc\n",
        "# may use convolution + max pooling:highest value\n",
        "# edges ->lines ->squiggles -> circles ->squares ->... etc when it goes deeper and deeper\n",
        "\n",
        "\n",
        "import tensorflow as tf\n",
        "from tensorflow.keras.models import Sequential\n",
        "from tensorflow.keras.layers import Dense, Dropout, Activation, Flatten, Conv2D, MaxPooling2D\n",
        "import pickle\n",
        "\n",
        "X = pickle.load(open(\"X.pickle\", \"rb\"))\n",
        "# y = pickle.load(open(\"y.pickle\", \"rb\"))\n",
        "y = array(pickle.load(open(\"y.pickle\",\"rb\")))\n",
        "\n",
        "# normalize data - scale data - image - max val 255 min 0 for pixel data - so div by 255 or keras.util.normalize\n",
        "\n",
        "X = X/255.0\n",
        "\n",
        "model = Sequential()\n",
        "model.add(Conv2D(64, (3,3), input_shape = X.shape[1:])) #num_units, window size, input shape parameters\n",
        "# after convolutional layer either pass activation layer or pooling\n",
        "model.add(Activation(\"relu\"))\n",
        "model.add(MaxPooling2D(pool_size = (2,2)))\n",
        "\n",
        "# repeat without shape\n",
        "model = Sequential()\n",
        "model.add(Conv2D(64, (3,3)))\n",
        "# after convolutional layer either pass activation layer or pooling\n",
        "model.add(Activation(\"relu\"))\n",
        "model.add(MaxPooling2D(pool_size = (2,2)))\n",
        "\n",
        "# now we have 2X64 convolutional neural network?\n",
        "model.add(Flatten())\n",
        "model.add(Dense(64)) #final dense layer of 64 nodes; it's 1D dataset so need to flatten data since convolution is 2D\n",
        "model.add(Activation(\"relu\")) #for some reason accuracy drops in some instances but using it is more proper\n",
        "\n",
        "\n",
        "# output layer\n",
        "model.add(Dense(1)) \n",
        "model.add(Activation('sigmoid')) #activation for it-the dense layer , or use model.add(Dense(1), activation = ???)\n",
        "\n",
        "# can add the \"layers\" as an array \"model = Sequential ([ flatten(), Dense(10),  Activation('relu') ])\" instead of using the model.add() function every time\n",
        "\n",
        "\n",
        "model.compile(loss=\"binary_crossentropy\", \n",
        "              optimizer =\"adam\",\n",
        "              metrics=['accuracy'])  #could also use categorical instead of binary_crossentropy but since we need only occupied or empty\n",
        "\n",
        "\n",
        "# how many at a time we want to pass, 20 to 200 optimum?, may negatively impact if batch size >1000s if dataset is relatively small; depends on size of data\n",
        "model.fit(X, y, batch_size=32, epochs = 10, validation_split=0.1) \n",
        "\n",
        "# possible optimizations to layers, epochs, param,... -sentdex:tensorboard,...\n",
        "\n",
        "model.save('64X3-CNN.model')  # use this model for prediction -note path\n",
        "\n",
        "\n"
      ],
      "execution_count": 0,
      "outputs": [
        {
          "output_type": "stream",
          "text": [
            "/content\n"
          ],
          "name": "stdout"
        },
        {
          "output_type": "display_data",
          "data": {
            "image/png": "[encoded data removed]",
            "text/plain": [
              "<Figure size 432x288 with 1 Axes>"
            ]
          },
          "metadata": {
            "tags": [],
            "needs_background": "light"
          }
        },
        {
          "output_type": "stream",
          "text": [
            "(30, 56)\n"
          ],
          "name": "stdout"
        },
        {
          "output_type": "display_data",
          "data": {
            "image/png": "[encoded data removed]",
            "text/plain": [
              "<Figure size 432x288 with 1 Axes>"
            ]
          },
          "metadata": {
            "tags": [],
            "needs_background": "light"
          }
        },
        {
          "output_type": "stream",
          "text": [
            "381\n",
            "0\n",
            "1\n",
            "0\n",
            "1\n",
            "1\n",
            "1\n",
            "1\n",
            "1\n",
            "1\n",
            "1\n",
            "Epoch 1/10\n",
            "WARNING:tensorflow:Layer conv2d_39 is casting an input tensor from dtype float64 to the layer's dtype of float32, which is new behavior in TensorFlow 2.  The layer has dtype float32 because it's dtype defaults to floatx.\n",
            "\n",
            "If you intended to run this layer in float32, you can safely ignore this warning. If in doubt, this warning is likely only an issue if you are porting a TensorFlow 1.X model to TensorFlow 2.\n",
            "\n",
            "To change all layers to have dtype float64 by default, call `tf.keras.backend.set_floatx('float64')`. To change just this layer, pass dtype='float64' to the layer constructor. If you are the author of this layer, you can disable autocasting by passing autocast=False to the base Layer constructor.\n",
            "\n",
            "11/11 [==============================] - 13s 1s/step - loss: 4.9211 - accuracy: 0.6901 - val_loss: 0.5901 - val_accuracy: 0.8205\n",
            "Epoch 2/10\n",
            "11/11 [==============================] - 13s 1s/step - loss: 0.5146 - accuracy: 0.7456 - val_loss: 0.3189 - val_accuracy: 0.7692\n",
            "Epoch 3/10\n",
            "11/11 [==============================] - 13s 1s/step - loss: 0.3393 - accuracy: 0.8304 - val_loss: 0.2174 - val_accuracy: 0.8718\n",
            "Epoch 4/10\n",
            "11/11 [==============================] - 13s 1s/step - loss: 0.3014 - accuracy: 0.8450 - val_loss: 0.2054 - val_accuracy: 0.8974\n",
            "Epoch 5/10\n",
            "11/11 [==============================] - 13s 1s/step - loss: 0.2454 - accuracy: 0.9123 - val_loss: 0.1825 - val_accuracy: 0.9231\n",
            "Epoch 6/10\n",
            "11/11 [==============================] - 13s 1s/step - loss: 0.2247 - accuracy: 0.9591 - val_loss: 0.1587 - val_accuracy: 1.0000\n",
            "Epoch 7/10\n",
            "11/11 [==============================] - 13s 1s/step - loss: 0.2216 - accuracy: 0.9503 - val_loss: 0.1398 - val_accuracy: 0.9744\n",
            "Epoch 8/10\n",
            "11/11 [==============================] - 13s 1s/step - loss: 0.2031 - accuracy: 0.9678 - val_loss: 0.1476 - val_accuracy: 0.9744\n",
            "Epoch 9/10\n",
            "11/11 [==============================] - 13s 1s/step - loss: 0.2081 - accuracy: 0.9708 - val_loss: 0.1489 - val_accuracy: 1.0000\n",
            "Epoch 10/10\n",
            "11/11 [==============================] - 13s 1s/step - loss: 0.1995 - accuracy: 0.9678 - val_loss: 0.1561 - val_accuracy: 0.9744\n",
            "WARNING:tensorflow:From /usr/local/lib/python3.6/dist-packages/tensorflow/python/ops/resource_variable_ops.py:1817: calling BaseResourceVariable.__init__ (from tensorflow.python.ops.resource_variable_ops) with constraint is deprecated and will be removed in a future version.\n",
            "Instructions for updating:\n",
            "If using Keras pass *_constraint arguments to layers.\n",
            "INFO:tensorflow:Assets written to: 64X3-CNN.model/assets\n"
          ],
          "name": "stdout"
        }
      ]
    },
    {
      "cell_type": "markdown",
      "metadata": {
        "id": "znmWucsk5zy_",
        "colab_type": "text"
      },
      "source": [
        ""
      ]
    },
    {
      "cell_type": "markdown",
      "metadata": {
        "id": "qMimUte1wmYt",
        "colab_type": "text"
      },
      "source": [
        "# Using Trained Model"
      ]
    },
    {
      "cell_type": "code",
      "metadata": {
        "id": "MBeH_7zMZwyh",
        "colab_type": "code",
        "colab": {}
      },
      "source": [
        "# To use trained model\n",
        "\n",
        "import cv2\n",
        "import tensorflow as tf\n",
        "\n",
        "CATEGORIES = [\"empty\", \"occupied\"]\n",
        "\n",
        "def prepare(filepath):\n",
        "    IMG_SIZE = 254   #use same size as used to train model\n",
        "    img_array = cv2.imread(filepath, cv2.IMREAD_GRAYSCALE)\n",
        "    new_array = cv2.resize(img_array, (IMG_SIZE, IMG_SIZE))\n",
        "    return new_array.reshape(-1, IMG_SIZE, 1)\n",
        "\n",
        "\n",
        "model = tf.keras.models.load_model(\"64X3-CNN.model\")\n",
        "\n",
        "# model loaded- ready to make a prediction\n",
        "prediction = model.predict([prepare('occupied1.jpg')]) # always enter a list even if singular\n",
        "\n",
        "print(prediction) # plain ugly \n",
        "\n",
        "\n",
        "prediction = model.predict([prepare('occupied1.jpg')])\n",
        "print(int(prediction[0][0]))  # pretty level 1: 0 or 1\n",
        "\n",
        "#\n",
        "# To Do: (loop through array of images - timed every x secs - return prediction for each indexed lot images ??)\n",
        "#\n",
        "prediction = model.predict([prepare('occupied1.jpg')])\n",
        "print(CATEGORIES[int(prediction[0][0])])  # pretty level max: indicates EMPTY OR OCCUPIED\n",
        "\n",
        "\n",
        "prediction = model.predict([prepare('empty1.jpg')])\n",
        "print(CATEGORIES[int(prediction[0][0])])  # predicc: fed empty lot img\n",
        "\n",
        "\n"
      ],
      "execution_count": 0,
      "outputs": []
    },
    {
      "cell_type": "markdown",
      "metadata": {
        "id": "AzB2Qe_X1AqT",
        "colab_type": "text"
      },
      "source": [
        "Deploy ML model prediction output as REST API -JSON object\n",
        "\n",
        "---\n",
        "\n"
      ]
    },
    {
      "cell_type": "code",
      "metadata": {
        "id": "QHj3gRpY1LOL",
        "colab_type": "code",
        "colab": {}
      },
      "source": [
        "from flask import Flask\n",
        "from flask_restful import reqparse, abort, Api, Resource\n",
        "import numpy as np\n",
        "import pickle\n",
        "from model import NLPModel\n",
        "\n",
        "\n",
        "app = Flask(__name__)\n",
        "api = Api(app)\n",
        "\n",
        "# creating new model object\n",
        "model = NLPModel()\n",
        "\n",
        "# loading trained classifier\n",
        "clf_path = 'lib/models/SentimentClassifier.pki'\n",
        "with open(clf_path, 'rb') as f:\n",
        "  model.clf = pickle.load(f)\n",
        "\n",
        "# load trained vectorizer\n",
        "vec_path = 'lib/models/SentimentClassifier.pki'\n",
        "with open(clf_path, 'rb') as f:\n",
        "  model.clf = pickle.load(f)\n",
        "\n",
        "# load trained vectorizer\n",
        "vec_path = 'lib/models/TFIDFVectorizer.pki'\n",
        "with open(vec_path, 'rb') as f:\n",
        "  model.vectorizer = pickle.load(f)\n",
        "\n",
        "\n",
        "  # creates argument parsing \n",
        "  parser = reqparse.RequestParser()\n",
        "  parser.add_argument('query')\n",
        "\n",
        "\n",
        " # ...continue segment -unfinished \n",
        " .\n",
        " ..\n",
        " ....\n",
        " ......\n",
        " ........\n",
        " "
      ],
      "execution_count": 0,
      "outputs": []
    },
    {
      "cell_type": "code",
      "metadata": {
        "id": "u7P44LSuQnVR",
        "colab_type": "code",
        "colab": {}
      },
      "source": [
        "# Geoevents Server--ArcGIS"
      ],
      "execution_count": 0,
      "outputs": []
    },
    {
      "cell_type": "markdown",
      "metadata": {
        "id": "KKdyScl6aSC7",
        "colab_type": "text"
      },
      "source": [
        "# Serialization of model structure to JSON\n"
      ]
    },
    {
      "cell_type": "code",
      "metadata": {
        "id": "pYxs44FAaJzN",
        "colab_type": "code",
        "colab": {}
      },
      "source": [
        "# Serialization of model structure to JSON\n",
        "\n",
        "model_json = model.to_json()\n",
        "with open(\"model.json\", \"w\") as json_mfile:\n",
        "  json_mfile.write(model_json)\n",
        "\n",
        ".\n",
        "...\n",
        ".....\n",
        "......."
      ],
      "execution_count": 0,
      "outputs": []
    },
    {
      "cell_type": "markdown",
      "metadata": {
        "id": "yvrz605LbCzW",
        "colab_type": "text"
      },
      "source": [
        "# Result analysis- plotting evaluation of loss and accuracy on training and validation sets --skipped/manually tried"
      ]
    },
    {
      "cell_type": "code",
      "metadata": {
        "id": "FMI5fQr5bDCK",
        "colab_type": "code",
        "colab": {}
      },
      "source": [
        "# Result analysis- plotting evaluation of loss and accuracy on training and validation sets"
      ],
      "execution_count": 0,
      "outputs": []
    },
    {
      "cell_type": "markdown",
      "metadata": {
        "id": "e-Kv1vNmblCQ",
        "colab_type": "text"
      },
      "source": [
        "# Confusion Matrix of the predictions"
      ]
    },
    {
      "cell_type": "code",
      "metadata": {
        "id": "Wbqp4aO3btXW",
        "colab_type": "code",
        "colab": {}
      },
      "source": [
        "# confusion matrix of predictions\n",
        "\n",
        "# computing predictions (again?)\n",
        "\n",
        "predictions = model.\n",
        "\n",
        ".\n",
        "..\n",
        "...\n",
        ".....\n",
        "......"
      ],
      "execution_count": 0,
      "outputs": []
    },
    {
      "cell_type": "markdown",
      "metadata": {
        "id": "6hXfzrHPcFTO",
        "colab_type": "text"
      },
      "source": [
        "#Real Time Predictions\n",
        "Creating a class for predictions of model trained previously"
      ]
    },
    {
      "cell_type": "code",
      "metadata": {
        "id": "uN4EzoSdcVD4",
        "colab_type": "code",
        "colab": {}
      },
      "source": [
        "# Creating a class for predictions of model trained previously\n",
        "\n",
        "from keras.models import model_from_json\n",
        "import numpy as np\n",
        "\n",
        "\n",
        "class vehicleIdentificationModel(object):\n",
        "  STATUS_LIST = [\"Empty\", \"Occupied\"]\n",
        "\n",
        "  def __init__(self, model_json_file, model_weights_file):\n",
        "    # loading model from JSON file\n",
        "    with open(model_json_file, \"r\") as json_mfile:\n",
        "      loaded_model_json = json_file.read()\n",
        "      self.loaded_model = model_from_json(loaded_model_json)\n",
        "\n",
        "      # loading weights into new model\n",
        "      self.loaded_model.load_weights(model)\n",
        "    ..\n",
        "    .....\n",
        "    ......"
      ],
      "execution_count": 0,
      "outputs": []
    },
    {
      "cell_type": "markdown",
      "metadata": {
        "id": "GKvVUbOWd_KB",
        "colab_type": "text"
      },
      "source": [
        "# Creating Flask app to render image predictions into Web Page"
      ]
    },
    {
      "cell_type": "code",
      "metadata": {
        "id": "J23VJmEXeTpN",
        "colab_type": "code",
        "colab": {}
      },
      "source": [
        "from flask import Flask, render_template, Response\n",
        "from camera import VideoCamera\n",
        "\n",
        "app = Flask(__name__)\n",
        "\n",
        "@app.route('/')\n",
        "def index()\n",
        "    return render_template('index.html')\n",
        "\n",
        "    def gen(camera):\n",
        "      while True:\n",
        "        frame = camera.get_frame()\n",
        "        yield (b'--frame\\r\\n'\n",
        "               b'Content-Type: image/jpeg\\r\\n\\r\\n' + frame + b'\\r\\n\\r\\n')\n",
        "        \n",
        "@app.route('/video_feed')\n",
        "def video_feed():\n",
        "    return Response(gen(VideoCamera())),\n",
        "                  mimetype = 'multipart/x-mixed-replace; boundary=frame')\n",
        "\n",
        "if __name__ == '__main__':\n",
        "    app.run(host=0.0.0.0, debug=True)        "
      ],
      "execution_count": 0,
      "outputs": []
    }
  ]
}